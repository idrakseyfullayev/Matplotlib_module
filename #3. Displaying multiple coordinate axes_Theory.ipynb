{
 "cells": [
  {
   "cell_type": "markdown",
   "id": "3c1ee649",
   "metadata": {},
   "source": [
    "## Displaying multiple coordinate axes_Theory"
   ]
  },
  {
   "cell_type": "markdown",
   "id": "f6caedb0",
   "metadata": {},
   "source": [
    "---\n",
    "\n",
    "* **plt.subplot()** – Eyni şəkildə bir neçə qrafiki bir pəncərədə (şəbəkə şəklində) göstərmək üçün istifadə olunur.\n",
    "\n",
    "  `plt.subplot(n_rows, n_cols, index)`\n",
    "\n",
    "  Məsələn: `plt.subplot(2, 2, 1)` – 2x2-lik şəbəkədə birinci qrafiki göstərir.\n",
    "\n",
    "\n",
    "---\n",
    "\n",
    "* **plt.subplots()** – Birdən çox qrafiki eyni anda yaratmaq və onlara ayrıca nəzarət etmək üçün istifadə olunur.\n",
    "- `fig, ax = plt.subplots(n_rows, n_cols)`\n",
    "\n",
    "  Məsələn: `fig, ax = plt.subplots(2, 2)` – 2x2-lik qrafik pəncərələri yaradır və \n",
    "  \n",
    "- `ax[0, 0]`, `ax[0, 1]`, `ax[1, 0]`, `ax[1, 1]` kimi indeksləmə ilə hər bir alt qrafikə ayrıca daxil olmaq mümkündür.\n",
    "\n",
    "---\n",
    "\n",
    "* **fig, ax = plt.subplots(2, 2)** – 2x2 ölçülü qrafik şəbəkəsi yaradır və hər qrafiki `ax` massivindən indekslə çağırmağa imkan verir.\n",
    "- `fig, ax = plt.subplots(2, 2)`\n",
    "\n",
    "* **fig.set\\_size\\_inches(7, 4)** – Qrafik pəncərəsinin ölçüsünü 7 düym enində və 4 düym hündürlüyündə təyin edir.\n",
    "- `fig.set_size_inches(7, 4)`\n",
    "\n",
    "* **fig.set\\_facecolor('#eee')** – Bütün qrafik pəncərəsinin fon rəngini açıq boz (`#eee`) kimi təyin edir.\n",
    "- `fig.set_facecolor('#eee')`\n",
    "\n",
    "---\n",
    "\n",
    "* **plt.figure(figsize=(7, 4))** – Yeni bir qrafik pəncərəsi yaradır və onun ölçüsünü 7 düym enində, 4 düym hündürlüyündə təyin edir.\n",
    "- `plt.figure(figsize=(7, 4))`\n",
    "\n",
    "---\n",
    "\n",
    "* **fig = plt.figure()** – Yeni, boş bir qrafik pəncərəsi yaradır.\n",
    "- `fig = plt.figure()`\n",
    "\n",
    "* **ax1 = fig.add\\_axes(\\[0, 0, 0.5, 0.5\\])** – Qrafik pəncərəsində `(sol, alt, en, hündürlük)` nisbətlərinə əsasən yeni bir ox (subplot sahəsi) əlavə edir.\n",
    "- `ax1 = fig.add_axes([0, 0, 0.5, 0.5])` – Qrafik pəncərəsinin sol-alt küncündə, eni və hündürlüyü 50% olan sahə yaradır.\n",
    "\n",
    "---\n",
    "\n",
    "* **fig = plt.figure(figsize=(7, 4))** – 7 düym enində və 4 düym hündürlüyündə boş bir qrafik pəncərəsi yaradır.\n",
    "- `fig = plt.figure(figsize=(7, 4))`\n",
    "\n",
    "* **ax1 = fig.add\\_subplot(1, 1, 1)** – 1x1-lik (tək) qrafik şəbəkəsində birinci subplot sahəsini əlavə edir.\n",
    "- `add_subplot(n_rows, n_cols, index)` – burada:\n",
    "\n",
    "  * `n_rows`: Şəbəkədə neçə sətir olacağını göstərir\n",
    "  * `n_cols`: Şəbəkədə neçə sütun olacağını göstərir\n",
    "  * `index`: Hansı sahənin əlavə olunacağını göstərir (soldan sağa, yuxarıdan aşağı sıralanır)\n",
    "\n",
    "---\n",
    "\n",
    "* **GridSpec** – Qrafik sahələrini (`subplot`) daha elastik şəkildə yerləşdirmək üçün istifadə olunan şəbəkə quruluşudur.\n",
    "- `gs = GridSpec(nrows, ncols, figure=fig, width_ratios=ws, height_ratios=hs)`\n",
    "\n",
    "  Bu nümunədə:\n",
    "\n",
    "  * `ws = [1, 2, 5]` → 3 sütunun eni nisbətən 1 : 2 : 5-dir\n",
    "  * `hs = [2, 0.5]` → 2 sətrin hündürlüyü 2 : 0.5-dir\n",
    "\n",
    "* **ax1 = plt.subplot(gs\\[0, 0\\])** – Birinci sətrin, birinci sütunundakı sahəyə qrafik çəkir.\n",
    "- `ax1.plot(np.arange(0, 5, 0.2))` – 0.2 intervalı ilə 0-dan 5-ə qədər olan x dəyərlərinə uyğun xətti qrafik.\n",
    "\n",
    "* **ax2 = fig.add\\_subplot(gs\\[1, 0:2\\])** – İkinci sətrin 0 və 1-ci sütunlarını birləşdirərək geniş sahədə qrafik çəkir.\n",
    "- `ax2.plot(np.random.random(10))` – Təsadüfi 10 dəyər üçün qrafik.\n",
    "\n",
    "* **ax3 = fig.add\\_subplot(gs\\[:, 2\\])** – Hər iki sətri əhatə edən 2-ci (sonuncu) sütunda qrafik sahəsi yaradır.\n",
    "- `ax3.plot(np.random.random(10))` – Yenə təsadüfi 10 dəyər üçün qrafik.\n",
    "\n",
    "---\n",
    "\n",
    "\n",
    "\n",
    "\n",
    "\n"
   ]
  },
  {
   "cell_type": "markdown",
   "id": "19cb9b26",
   "metadata": {},
   "source": [
    "## Müqayisə Cədvəli"
   ]
  },
  {
   "cell_type": "markdown",
   "id": "02807dbb",
   "metadata": {},
   "source": [
    "\n",
    "\n",
    "| Funksiya                | Təyinatı                                                                          | Haradan Çağırılır           | Qrafiklərin sayı və idarəsi                          | Qeydlər                                                                                     |\n",
    "| ----------------------- | --------------------------------------------------------------------------------- | --------------------------- | ---------------------------------------------------- | ------------------------------------------------------------------------------------------- |\n",
    "| **`plt.subplot()`**     | Eyni anda tək bir subplot yaradır və həmin subplot üzərində işləməyə imkan verir. | `matplotlib.pyplot` (`plt`) | Bir subplot (tək sahə)                               | Ən sadə, sürətli, birdəfəlik subplot yaratmaq üçün.                                         |\n",
    "| **`plt.subplots()`**    | Birdən çox subplot yaradır, `Figure` və `Axes` massivini qaytarır.                | `matplotlib.pyplot` (`plt`), (`plt.figure()`) | Birdən çox subplot, `fig` və `ax` massivini qaytarır | Daha mürəkkəb layoutlar üçün, ayrı-ayrı `Axes` obyektlərini idarə etməyə imkan verir.       |\n",
    "| **`fig.add_subplot()`** | Mövcud `Figure` obyektinə subplot əlavə edir.                                     | (`plt.figure()`)    | Birdən çox subplot əlavə etmək, `Axes` qaytarır      | `plt.figure()` ilə yaradılmış `fig` üzərində işləyir, dinamik subplot əlavə etməyə yarayır. |\n",
    "\n",
    "### Qısa izah:\n",
    "\n",
    "* `plt.subplot()` — təkcə `plt` modulundan çağrılır, tez-tez birdəfəlik sadə subplot üçün istifadə olunur.\n",
    "* `plt.subplots()` — `plt` modulundan çağrılır, həm `Figure`, həm də `Axes` massivini verir, kompleks çoxlu subplot idarəsi üçün uyğundur.\n",
    "* `fig.add_subplot()` — `Figure` obyektindən çağrılır, artıq mövcud olan `Figure` üzərinə subplot əlavə edir.\n",
    "\n",
    "\n"
   ]
  },
  {
   "cell_type": "code",
   "execution_count": null,
   "id": "e1d64c24",
   "metadata": {},
   "outputs": [],
   "source": []
  }
 ],
 "metadata": {
  "kernelspec": {
   "display_name": "Python 3 (ipykernel)",
   "language": "python",
   "name": "python3"
  },
  "language_info": {
   "codemirror_mode": {
    "name": "ipython",
    "version": 3
   },
   "file_extension": ".py",
   "mimetype": "text/x-python",
   "name": "python",
   "nbconvert_exporter": "python",
   "pygments_lexer": "ipython3",
   "version": "3.11.5"
  }
 },
 "nbformat": 4,
 "nbformat_minor": 5
}
