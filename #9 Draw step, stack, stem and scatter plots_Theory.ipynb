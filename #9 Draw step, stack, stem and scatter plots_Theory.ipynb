{
 "cells": [
  {
   "cell_type": "markdown",
   "id": "26eea4c5",
   "metadata": {},
   "source": [
    "## Draw step, stack, stem and scatter plots_Theory"
   ]
  },
  {
   "cell_type": "markdown",
   "id": "9c466ca5",
   "metadata": {},
   "source": [
    "\n",
    "* **ax.step()** – Məlumatları addım-addım (pilləli) şəkildə göstərmək üçün istifadə olunur.\n",
    "\n",
    "- `ax.step(x, y, '--go', where='post')`\n",
    "- Burada:\n",
    "\n",
    "  * `x`, `y` — x və y koordinat nöqtələri\n",
    "  * `'--go'` —\n",
    "\n",
    "    * `'--'` — kəsik xətt\n",
    "    * `'g'` — yaşıl rəng\n",
    "    * `'o'` — dairəvi markerlər\n",
    "  * `where='post'` — addımlar **x dəyişəndən sonra** (yəni, sağdan) dəyişsin deyə göstəricidir; bu, pillənin dəyişməsini növbəti `x` dəyərinə qədər gecikdirir.\n",
    "  * Nəticədə: **yaşıl, kəsik, pilləli bir xətt** və **nöqtələrlə birlikdə**, dəyişikliklər `x`-dən sonra baş verir.\n",
    "\n",
    "---\n",
    "\n",
    "\n",
    "* **ax.stackplot()** – Bir neçə verilən sıra üçün sahə cəmlənməsi (stacked area plot) çəkmək üçün istifadə olunur.\n",
    "\n",
    "- `ax.stackplot(x, y1, y2, y3)`\n",
    "- Burada:\n",
    "\n",
    "  * `x` — bütün y-lər üçün ortaq x oxu dəyərləri\n",
    "  * `y1`, `y2`, `y3` — ayrı-ayrı verilən sıraları (yəni sahələri) təmsil edir\n",
    "  * Bu funksiya `y1`, `y2`, `y3` seriyalarını üst-üstə toplayaraq, **bir-birinin üzərinə düşən sahələr** şəklində göstərir\n",
    "  * Vizual olaraq zamanla bir neçə kateqoriyanın artım və ya dəyişməsini göstərmək üçün istifadə olunur.\n",
    "\n",
    "\n",
    "---\n",
    "\n",
    "* **ax.stem()** – Verilən nöqtələr üçün şaquli xətlər və markerlərlə **sap (stem) qrafiki** çəkmək üçün istifadə olunur.\n",
    "\n",
    "- `ax.stem(x, y)`\n",
    "- Burada:\n",
    "\n",
    "  * `x` — x oxundakı nöqtələr\n",
    "  * `y` — həmin x nöqtələrinə uyğun y dəyərləri\n",
    "  * Hər bir `(x, y)` nöqtəsi üçün **oxun altından y-ə qədər bir xətt (stem)** çəkilir və y-də bir marker yerləşdirilir\n",
    "  * Bu qrafik nöqtələrin dəyərini daha aydın göstərmək üçün istifadə olunur, xüsusilə diskret və ya impuls tipli datalar üçün faydalıdır.\n",
    "\n",
    "---\n",
    "\n",
    "* **ax.stem()** – Şaquli sap (stem) qrafiki yaratmaq üçün istifadə olunur və müxtəlif vizual tənzimləmələrə imkan verir.\n",
    "\n",
    "- `ax.stem(x, y, linefmt='--r', markerfmt='^g', bottom=0.5, basefmt=':')`\n",
    "- Burada:\n",
    "\n",
    "  * `x`, `y` — nöqtələrin koordinatları\n",
    "  * `linefmt='--r'` — sap xətlərinin stili: kəsik-kəsik (`--`), qırmızı rəngdə (`r`)\n",
    "  * `markerfmt='^g'` — markerlərin forması və rəngi: üçbucaq (`^`), yaşıl (`g`)\n",
    "  * `bottom=0.5` — sap xətləri 0 əvəzinə 0.5-dən başlayır\n",
    "  * `basefmt=':'` — əsas xəttin (bottom xəttinin) stili: nöqtəli xətt (`:`)\n",
    "  * Bu şəkildə saplar 0.5-dən başlayaraq y-ə qədər uzanır, və vizual olaraq fərqli üslubda təqdim olunur.\n",
    "\n",
    "---\n",
    "\n",
    "* **ax.scatter()** – Verilən nöqtələri **səpələnmiş nöqtə qrafiki** (scatter plot) kimi çəkmək üçün istifadə olunur.\n",
    "\n",
    "- `ax.scatter(x, y)`\n",
    "- Burada:\n",
    "\n",
    "  * `x` — x oxundakı nöqtələr\n",
    "  * `y` — y oxundakı nöqtələr\n",
    "  * Hər `(x, y)` cütü üçün ayrı-ayrılıqda marker (nöqtə) çəkilir\n",
    "  * Bu qrafik iki dəyişən arasında əlaqəni, qruplaşmaları və ya sıxlıq bölgələrini vizual analiz etmək üçün istifadə olunur.\n",
    "\n",
    "---\n",
    "\n",
    "* **ax.scatter()** – İstifadəçiyə uyğunlaşdırılmış səpələnmiş nöqtə qrafiki (scatter plot) yaratmaq üçün istifadə olunur.\n",
    "\n",
    "- `ax.scatter(x, y, s=50, c='g', linewidths=2, marker='s', edgecolors='r')`\n",
    "- Burada:\n",
    "\n",
    "  * `x`, `y` — nöqtələrin koordinatları\n",
    "  * `s=50` — hər bir nöqtənin ölçüsü\n",
    "  * `c='g'` — nöqtələrin iç rəngi yaşıl (green)\n",
    "  * `linewidths=2` — markerin sərhəd qalınlığı 2 piksel\n",
    "  * `marker='s'` — marker forması kvadrat (square)\n",
    "  * `edgecolors='r'` — markerlərin sərhəd (kənar) rəngi qırmızı (red)\n",
    "  * Bu parametrlərlə hər bir nöqtə yaşıl dolu kvadrat şəklində göstərilir, qırmızı sərhəd və 2 px qalınlıqla.\n",
    "\n",
    "---"
   ]
  },
  {
   "cell_type": "code",
   "execution_count": null,
   "id": "7fe8b4ab",
   "metadata": {},
   "outputs": [],
   "source": []
  },
  {
   "cell_type": "markdown",
   "id": "26fb206f",
   "metadata": {},
   "source": [
    "### Strong Correlation sample"
   ]
  },
  {
   "cell_type": "code",
   "execution_count": 23,
   "id": "c712472a",
   "metadata": {},
   "outputs": [
    {
     "data": {
      "image/png": "[encoded data removed]",
      "text/plain": [
       "<Figure size 1000x400 with 1 Axes>"
      ]
     },
     "metadata": {},
     "output_type": "display_data"
    }
   ],
   "source": [
    "import numpy as np\n",
    "import matplotlib.pyplot as plt\n",
    "\n",
    "fig = plt.figure(figsize=(10, 4))\n",
    "ax = fig.add_subplot()\n",
    "\n",
    "x = np.random.normal(0, 1, 500)\n",
    "y = 3 * x + np.random.normal(0, 0.5, 500)  # y x ilə güclü korrelyasiyalıdır\n",
    "\n",
    "ax.scatter(x, y)\n",
    "\n",
    "ax.grid()\n",
    "\n",
    "plt.show()"
   ]
  },
  {
   "cell_type": "code",
   "execution_count": 24,
   "id": "0b435d6b",
   "metadata": {},
   "outputs": [
    {
     "data": {
      "text/plain": [
       "array([[1.        , 0.98791834],\n",
       "       [0.98791834, 1.        ]])"
      ]
     },
     "execution_count": 24,
     "metadata": {},
     "output_type": "execute_result"
    }
   ],
   "source": [
    "np.corrcoef(x, y)"
   ]
  },
  {
   "cell_type": "code",
   "execution_count": null,
   "id": "93937569",
   "metadata": {},
   "outputs": [],
   "source": []
  }
 ],
 "metadata": {
  "kernelspec": {
   "display_name": "Python 3 (ipykernel)",
   "language": "python",
   "name": "python3"
  },
  "language_info": {
   "codemirror_mode": {
    "name": "ipython",
    "version": 3
   },
   "file_extension": ".py",
   "mimetype": "text/x-python",
   "name": "python",
   "nbconvert_exporter": "python",
   "pygments_lexer": "ipython3",
   "version": "3.11.5"
  }
 },
 "nbformat": 4,
 "nbformat_minor": 5
}
